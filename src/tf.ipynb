{
  "nbformat": 4,
  "nbformat_minor": 0,
  "metadata": {
    "colab": {
      "provenance": [],
      "collapsed_sections": [
        "Deo1SPAa4mao",
        "5J869gWw5Iwb"
      ]
    },
    "kernelspec": {
      "name": "python3",
      "display_name": "Python 3"
    },
    "language_info": {
      "name": "python"
    }
  },
  "cells": [
    {
      "cell_type": "markdown",
      "source": [
        "# Analise dos dados\n"
      ],
      "metadata": {
        "id": "flaVffBeReZY"
      }
    },
    {
      "cell_type": "markdown",
      "source": [
        "## Idenfica o dataset\n",
        "\n",
        "- importa o pandas, numpy, matplotlib;\n",
        "- realiza a leitura do dataset;\n",
        "- verifica a quantidade de linhas e colunas;\n",
        "- exibe as 3 primeiras linhas do arquivo;\n",
        "- exibe as informações das colunas;\n",
        "- exibe os valores unicos do dataset;\n",
        "- exibe somatorio das colunas nulas;"
      ],
      "metadata": {
        "id": "Deo1SPAa4mao"
      }
    },
    {
      "cell_type": "code",
      "source": [
        "#importa a lib do pandas\n",
        "import pandas as pd\n",
        "import numpy as np\n",
        "import matplotlib.pyplot as plt\n",
        "\n",
        "#realiza a leitura do arquivo\n",
        "df = pd.read_csv(\"imdb.csv\")\n",
        "\n",
        "#mostra a quantidade de linhas e coluna do dataframe\n",
        "df.shape"
      ],
      "metadata": {
        "id": "bp4WPjxd4b-q"
      },
      "execution_count": null,
      "outputs": []
    },
    {
      "cell_type": "code",
      "source": [
        "#exibe as 3 primeiras linhas do arquivo\n",
        "df.head(3)\n"
      ],
      "metadata": {
        "id": "Jq1AvxNC4go1"
      },
      "execution_count": null,
      "outputs": []
    },
    {
      "cell_type": "code",
      "source": [
        "#mostra as informações das colunas\n",
        "df.info()"
      ],
      "metadata": {
        "id": "0t59ecOI63_5"
      },
      "execution_count": null,
      "outputs": []
    },
    {
      "cell_type": "code",
      "source": [
        "# verifica a quantidade de valores unicos existe dentro do dataset\n",
        "df.nunique()"
      ],
      "metadata": {
        "id": "jINqdvjI4m-a"
      },
      "execution_count": null,
      "outputs": []
    },
    {
      "cell_type": "code",
      "source": [
        "#mostra a soma das colunas vazias\n",
        "df.isnull().sum() # codigo df.isna.sum() mostra o mesmo resultado"
      ],
      "metadata": {
        "id": "fxqJgZ0vr8fC"
      },
      "execution_count": null,
      "outputs": []
    },
    {
      "cell_type": "markdown",
      "source": [
        "## Limpa o dataset\n",
        " - Remove dados duplicados\n",
        "  - coluna Series Title\n",
        " - Remove colunas desnecessarias\n",
        " - Modifica colunas\n",
        " - adiciona outra variavel com os dados limpos\n",
        "  - dfLimp"
      ],
      "metadata": {
        "id": "5J869gWw5Iwb"
      }
    },
    {
      "cell_type": "markdown",
      "source": [
        "\n",
        "- Series_Title\n",
        " - identica os titulos duplicado\n",
        " - eliminar linha duplicada do dataset\n",
        " - reorganiza o index do dataset"
      ],
      "metadata": {
        "id": "192Fcr-TIKJE"
      }
    },
    {
      "cell_type": "code",
      "source": [
        "#função p remover ocorrencia duplicada\n",
        "def removeOcorrenciaDuplicada(nomeDaColuna):\n",
        "  return df.drop_duplicates(subset=[nomeDaColuna], keep='last').reset_index(drop=True)\n"
      ],
      "metadata": {
        "id": "X9A-PRBAIgs5"
      },
      "execution_count": null,
      "outputs": []
    },
    {
      "cell_type": "code",
      "source": [
        "# Filtra o dataset e retorna a linha onde o titulo está duplicado\n",
        "dfLimp = removeOcorrenciaDuplicada('Series_Title')"
      ],
      "metadata": {
        "id": "bjQ-s7NA-zEq"
      },
      "execution_count": null,
      "outputs": []
    },
    {
      "cell_type": "markdown",
      "source": [
        "- Remove colunas\n",
        " - Poster_Link\n"
      ],
      "metadata": {
        "id": "fTeMqyk6NZst"
      }
    },
    {
      "cell_type": "code",
      "source": [
        "#Remove a coluna\n",
        "dfLimp = dfLimp.drop('Poster_Link',axis=1)"
      ],
      "metadata": {
        "id": "lpRIiYmF5cNp"
      },
      "execution_count": null,
      "outputs": []
    },
    {
      "cell_type": "markdown",
      "source": [
        "\n",
        "- Modifica colunas\n",
        " - Released_Year : verifica se existe erros. onde deveria ter numero tem letra\n",
        " - sera modificado para a media dos anos\n",
        " - exibe grafico de filmes por ano"
      ],
      "metadata": {
        "id": "0dlrCOqO-Dhp"
      }
    },
    {
      "cell_type": "code",
      "source": [
        "# Cria uma máscara string é composto somente por dígitos\n",
        "maskInvalida = ~dfLimp['Released_Year'].astype(str).str.match(r'^\\d+$')\n",
        "\n",
        "# Filtra essas linhas\n",
        "linhasInvalidas = dfLimp[maskInvalida]\n",
        "\n",
        "# Será adicionado um número de ano na célula a partir da mediana\n",
        "anosValidos = dfLimp.loc[~maskInvalida, 'Released_Year'].astype(int)\n",
        "anoMedio = int(anosValidos.median())\n",
        "dfLimp.loc[maskInvalida, 'Released_Year'] = anoMedio\n",
        "\n",
        "# Converte toda a coluna para int\n",
        "dfLimp['Released_Year'] = dfLimp['Released_Year'].astype(int)\n",
        "\n",
        "\n",
        "# Conta quantos filmes/séries há por ano\n",
        "contagem_por_ano = dfLimp['Released_Year'].value_counts().sort_index()\n",
        "\n",
        "# Gera o gráfico\n",
        "plt.figure(figsize=(12, 6))\n",
        "plt.bar(contagem_por_ano.index, contagem_por_ano.values, color='skyblue')\n",
        "plt.xlabel('Ano de Lançamento')\n",
        "plt.ylabel('Número de Títulos')\n",
        "plt.title('Distribuição de Títulos por Ano de Lançamento')\n",
        "plt.xticks( rotation=45)\n",
        "plt.grid(axis='y', linestyle='--', alpha=0.7)\n",
        "plt.tight_layout()\n",
        "plt.show()"
      ],
      "metadata": {
        "id": "EbCoFMbE8Pci"
      },
      "execution_count": null,
      "outputs": []
    },
    {
      "cell_type": "markdown",
      "source": [
        "\n",
        "## Tratando a coluna Gross\n",
        "\n",
        " - converte de object para float\n",
        "\n",
        "---\n",
        "\n",
        "\n",
        "- verificar os anos dos filmes\n",
        "- agrupar os filmes por ano\n",
        "- verificar a media gasta em filmes por ano\n",
        "- verificar o minimo e o maximo gasto\n",
        "- atribuir a media dependo do ano"
      ],
      "metadata": {
        "id": "Po1Yn5J4vFCA"
      }
    },
    {
      "cell_type": "code",
      "source": [
        "#Modifica todas as linhas da coluna para float\n",
        "dfLimp['Gross'] = dfLimp['Gross'].str.replace(',', '').astype(float)\n"
      ],
      "metadata": {
        "id": "NPwfzVWiYikf"
      },
      "execution_count": null,
      "outputs": []
    },
    {
      "cell_type": "code",
      "source": [
        "dfLimp.Gross.describe()"
      ],
      "metadata": {
        "id": "z1ejaEO5gK5d"
      },
      "execution_count": null,
      "outputs": []
    },
    {
      "cell_type": "code",
      "source": [
        "import pandas as pd\n",
        "\n",
        "# Passo 1: Ler o arquivo\n",
        "df = pd.read_csv(\"imdb.csv\")  # Certifique-se que o arquivo está na mesma pasta\n",
        "\n",
        "# Passo 2: Limpar a coluna 'Gross'\n",
        "# Remover vírgulas e converter para float\n",
        "df['Gross'] = df['Gross'].str.replace(',', '', regex=False)\n",
        "df['Gross'] = pd.to_numeric(df['Gross'], errors='coerce')\n",
        "\n",
        "# Passo 3: Calcular a média de 'Gross' por diretor (ignorando NaNs)\n",
        "media_por_diretor = df.groupby('Director')['Gross'].mean()\n",
        "\n",
        "# Passo 4: Calcular a mediana geral da coluna 'Gross' (sem NaNs)\n",
        "mediana_geral = df['Gross'].median()\n",
        "\n",
        "# Passo 5: Criar uma função que aplica as regras de preenchimento\n",
        "def preencher(row):\n",
        "    if pd.notna(row['Gross']):\n",
        "        return row['Gross']\n",
        "\n",
        "    diretor = row['Director']\n",
        "    media_diretor = media_por_diretor.get(diretor, None)\n",
        "\n",
        "    if pd.notna(media_diretor):\n",
        "        return media_diretor\n",
        "    else:\n",
        "        return mediana_geral\n",
        "\n",
        "# Passo 6: Aplicar a função linha por linha\n",
        "df['Gross'] = df.apply(preencher, axis=1)\n",
        "\n",
        "# Passo 7 (opcional): Verificar se ainda há valores nulos\n",
        "print(\"Valores nulos restantes em 'Gross':\", df['Gross'].isna().sum())\n",
        "\n",
        "# Passo 8 (opcional): Salvar o novo CSV\n",
        "df.to_csv(\"imdb_preenchido.csv\", index=False)\n"
      ],
      "metadata": {
        "id": "ZoqxlWxzgK14"
      },
      "execution_count": null,
      "outputs": []
    },
    {
      "cell_type": "code",
      "source": [
        "dfLimp.isna().sum()"
      ],
      "metadata": {
        "id": "FeX7xtoPgKy2"
      },
      "execution_count": null,
      "outputs": []
    },
    {
      "cell_type": "code",
      "source": [],
      "metadata": {
        "id": "nEXbkivtgKvk"
      },
      "execution_count": null,
      "outputs": []
    },
    {
      "cell_type": "code",
      "source": [],
      "metadata": {
        "id": "tl9QX5FVgKsV"
      },
      "execution_count": null,
      "outputs": []
    },
    {
      "cell_type": "code",
      "source": [],
      "metadata": {
        "id": "MUQGFDbJgKfC"
      },
      "execution_count": null,
      "outputs": []
    },
    {
      "cell_type": "code",
      "source": [
        "dfLimp.groupby('Released_Year')['Gross'].mean()"
      ],
      "metadata": {
        "id": "tYxTVh5yb5Dx"
      },
      "execution_count": null,
      "outputs": []
    },
    {
      "cell_type": "code",
      "source": [
        "dfLimp.Gross.plot.hist(bins=20);"
      ],
      "metadata": {
        "id": "jrFf-8XubWx6"
      },
      "execution_count": null,
      "outputs": []
    },
    {
      "cell_type": "code",
      "source": [
        "valoreUnic = dfLimp.Gross.nunique()\n",
        "dfvaloreUnic = df.Gross.nunique()\n",
        "valoresNulo = dfLimp.Gross.isnull().sum()\n",
        "valorTotal = 999\n",
        "\n",
        "# conta nao bate.\n",
        "\n",
        "print(f\"Linhas com valor Unicos de Gross\", valoreUnic)\n",
        "print(f\"df Linhas com valor Unicos de Gross\", dfvaloreUnic)\n",
        "print(f\"Linhas com valor Nulos de Gross\", valoresNulo)\n",
        "print(f\"Total de linha do dataset\", valorTotal)\n",
        "\n",
        "valorTotal == (valoreUnic + valoresNulo)"
      ],
      "metadata": {
        "id": "UIagvqlfR8q5"
      },
      "execution_count": null,
      "outputs": []
    },
    {
      "cell_type": "code",
      "source": [],
      "metadata": {
        "id": "n8al99UtR8fu"
      },
      "execution_count": null,
      "outputs": []
    },
    {
      "cell_type": "code",
      "source": [
        "dfLimp.groupby('Released_Year')['Gross'].mean()"
      ],
      "metadata": {
        "id": "_RjsyZFCR8P3"
      },
      "execution_count": null,
      "outputs": []
    },
    {
      "cell_type": "code",
      "source": [],
      "metadata": {
        "id": "mZaoJVPISrU8"
      },
      "execution_count": null,
      "outputs": []
    },
    {
      "cell_type": "code",
      "source": [],
      "metadata": {
        "id": "qf3Y2MVSSrRe"
      },
      "execution_count": null,
      "outputs": []
    },
    {
      "cell_type": "code",
      "source": [],
      "metadata": {
        "id": "0fV2NgB2SrOo"
      },
      "execution_count": null,
      "outputs": []
    },
    {
      "cell_type": "code",
      "source": [],
      "metadata": {
        "id": "9rp-ZoXvSrLt"
      },
      "execution_count": null,
      "outputs": []
    },
    {
      "cell_type": "code",
      "source": [],
      "metadata": {
        "id": "fiMXBU9TSrI4"
      },
      "execution_count": null,
      "outputs": []
    },
    {
      "cell_type": "code",
      "source": [],
      "metadata": {
        "id": "SSWLRaA8SrF2"
      },
      "execution_count": null,
      "outputs": []
    },
    {
      "cell_type": "code",
      "source": [],
      "metadata": {
        "id": "oG_q99-PSrC-"
      },
      "execution_count": null,
      "outputs": []
    },
    {
      "cell_type": "code",
      "source": [],
      "metadata": {
        "id": "8U_741DCSq_8"
      },
      "execution_count": null,
      "outputs": []
    },
    {
      "cell_type": "code",
      "source": [],
      "metadata": {
        "id": "RhloA9KBSq9E"
      },
      "execution_count": null,
      "outputs": []
    },
    {
      "cell_type": "code",
      "source": [],
      "metadata": {
        "id": "U75OG98sSq6E"
      },
      "execution_count": null,
      "outputs": []
    },
    {
      "cell_type": "code",
      "source": [],
      "metadata": {
        "id": "PglC_ky4Sq2e"
      },
      "execution_count": null,
      "outputs": []
    },
    {
      "cell_type": "code",
      "source": [],
      "metadata": {
        "id": "svG83wYYSqzK"
      },
      "execution_count": null,
      "outputs": []
    },
    {
      "cell_type": "markdown",
      "source": [
        "# trata no arquivo\n",
        "preciso trata a coluna certificado que nao tem informação.\n",
        " - criar um modelo de ml q de o certificado a parti do titulo genero e sinopese\n",
        "\n",
        "preciso verifica os dados q nao tem informação de gross, grana q usou para fazer o filme\n",
        " - irei dividir os filmes por ano e entender as medias\n",
        " - dependendo do ano e do genero irei atribuir a media do ano para o filme\n",
        " assumindo que o filme utilizou x valor para ser filmado.\n",
        "\n",
        "nota da critica especializada remover coluna, a principio"
      ],
      "metadata": {
        "id": "OdMEBE67R2-R"
      }
    },
    {
      "cell_type": "markdown",
      "source": [
        "# Machine Learning\n"
      ],
      "metadata": {
        "id": "SjZW1UUsRlZd"
      }
    }
  ]
}
{
 "cells": [
  {
   "cell_type": "markdown",
   "id": "03a05c51",
   "metadata": {},
   "source": [
    "# **Trabalho final (TF)**\n",
    "---\n",
    "\n",
    "*   Analisar o dataset do imdb disponivel no link - https://www.kaggle.com/datasets/harshitshankhdhar/imdb-dataset-of-top-1000-movies-and-tv-shows\n",
    "\n",
    "## Dicionario\n",
    "* Poster_Link\t| Link do pôster usado no site da IMDb\n",
    "* Series_Title |\tNome do filme\n",
    "* Released_Year |\tAno em que o filme foi lançado\n",
    "* Certificate\t| Classificação indicativa (por idade)\n",
    "* Runtime |\tDuração total do filme\n",
    "* Genre\t| Gênero(s) do filme\n",
    "* IMDB_Rating |\tNota do filme no site IMDb\n",
    "* Overview |\tMini história / resumo do filme\n",
    "* Meta_score |\tNota da crítica especializada\n",
    "* Director |\tNome do(a) diretor(a) do filme\n",
    "* Star1, Star2, Star3, Star4 | Nomes dos principais atores atrizes do filme\n",
    "* No_of_votes\t| Total de votos recebidos pelo filme\n",
    "* Gross\t| Dinheiro arrecadado pelo filme\n",
    "\n",
    "## Questionamentos\n",
    "1. Quantos filmes tem de cada genero?\n",
    "2. Filmes com notas altas tem mais recadação de dinheiro?\n",
    "3. Quantidade de filmes lançado no ano?\n",
    "4. Classificação do filme interfere na recadação dele?\n",
    "5. ator por genero?\n",
    "6. Análise da receita (gross) de um filme em relação aos diretores"
   ]
  },
  {
   "cell_type": "code",
   "execution_count": 3,
   "id": "a9b3a107",
   "metadata": {},
   "outputs": [
    {
     "data": {
      "text/plain": [
       "(1000, 16)"
      ]
     },
     "execution_count": 3,
     "metadata": {},
     "output_type": "execute_result"
    }
   ],
   "source": [
    "#importa a lib do pandas\n",
    "import pandas as pd\n",
    "\n",
    "#realiza a leitura do arquivo\n",
    "df = pd.read_csv(\"./imdb.csv\")\n",
    "\n",
    "#mostra a quantidade de linhas e coluna do dataframe\n",
    "df.shape\n",
    "#exibe as 3 primeiras linhas do arquivo\n",
    "df.head(3)\n",
    "#mostra as informações das colunas\n",
    "df.info()\n",
    "\n",
    "#Mostra a coluna e a quantidade total de linhas nula\n",
    "df.isnull().sum()\n",
    "\n",
    "#Filtra todas as linhas nulas da coluna Certificate e subtitui pela classificaçao A\n",
    "df.loc[ df['Certificate'].isnull(),'Certificate' ]='A'\n",
    "\n",
    "df.describe()"
   ]
  },
  {
   "cell_type": "code",
   "execution_count": null,
   "id": "387bc9c9",
   "metadata": {},
   "outputs": [],
   "source": []
  }
 ],
 "metadata": {
  "kernelspec": {
   "display_name": "Python 3 (ipykernel)",
   "language": "python",
   "name": "python3"
  },
  "language_info": {
   "codemirror_mode": {
    "name": "ipython",
    "version": 3
   },
   "file_extension": ".py",
   "mimetype": "text/x-python",
   "name": "python",
   "nbconvert_exporter": "python",
   "pygments_lexer": "ipython3",
   "version": "3.9.13"
  }
 },
 "nbformat": 4,
 "nbformat_minor": 5
}
